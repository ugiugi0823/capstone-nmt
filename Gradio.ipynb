{
  "nbformat": 4,
  "nbformat_minor": 0,
  "metadata": {
    "colab": {
      "private_outputs": true,
      "provenance": []
    },
    "kernelspec": {
      "name": "python3",
      "display_name": "Python 3"
    },
    "language_info": {
      "name": "python"
    }
  },
  "cells": [
    {
      "cell_type": "markdown",
      "source": [
        "# 그라디오 설치"
      ],
      "metadata": {
        "id": "3TRcNKabLtec"
      }
    },
    {
      "cell_type": "code",
      "source": [
        "!pip install -q gradio\n",
        "import gradio as gr\n",
        "gr.__version__ # 영상은 2.3.6 이네"
      ],
      "metadata": {
        "id": "YwjVRK3_QfMv"
      },
      "execution_count": null,
      "outputs": []
    },
    {
      "cell_type": "markdown",
      "source": [
        "# 그라디오 홈페이지랑 모델 연결"
      ],
      "metadata": {
        "id": "BIxbhcuG4dEA"
      }
    },
    {
      "cell_type": "code",
      "source": [
        "# papago python 구현 예제\n",
        "import os \n",
        "import sys \n",
        "import urllib.request \n",
        "import json\n",
        "from pprint import pprint\n",
        "\n",
        "\n",
        "client_id = \"WgvEkb3RK8hkhcUXxqX\" # 개발자센터에서 발급받은 client ID 값\n",
        "client_secret = \"9H5msdfeLi\" # 개발자센터에서 발급받은 Client secret 값\n",
        "\n",
        "def ToEn(koText):\n",
        "    encText = urllib.parse.quote(koText)\n",
        "    data = \"source=ko&target=en&text=\" + encText\n",
        "    url = \"https://openapi.naver.com/v1/papago/n2mt\"\n",
        "    request = urllib.request.Request(url)\n",
        "    request.add_header(\"X-Naver-Client-Id\" ,client_id)\n",
        "    request.add_header(\"X-Naver-Client-Secret\" ,client_secret)\n",
        "    response = urllib.request.urlopen(request, data=data.encode(\"utf-8\"))\n",
        "    rescode = response.getcode()\n",
        "    if (rescode==200):\n",
        "          response_body = response.read()\n",
        "          result = response_body.decode('utf-8')\n",
        "          d = json.loads(result)\n",
        "          print('--- Korean to English ---')\n",
        "          print('번역전 : ', koText)\n",
        "          print('번역후 : ', d['message']['result']['translatedText']) # 내가 필요한 부분\n",
        "          # print(['translatedText'])\n",
        "          fd = d['message']['result']['translatedText']\n",
        "          print(fd)\n",
        "    return fd\n",
        "\n",
        "def ToKo(egText):\n",
        "    kocText = urllib.parse.quote(egText)\n",
        "    data = \"source=en&target=ko&text=\" + kocText\n",
        "    url = \"https://openapi.naver.com/v1/papago/n2mt\"\n",
        "    request = urllib.request.Request(url)\n",
        "    request.add_header(\"X-Naver-Client-Id\" ,client_id)\n",
        "    request.add_header(\"X-Naver-Client-Secret\" ,client_secret)\n",
        "    response = urllib.request.urlopen(request, data=data.encode(\"utf-8\"))\n",
        "    rescode = response.getcode()\n",
        "    if (rescode==200):\n",
        "          response_body = response.read()\n",
        "          result = response_body.decode('utf-8')\n",
        "          d = json.loads(result)\n",
        "          print ('--- English to Korean ---')\n",
        "          print ('번역전 : ', egText)\n",
        "          print (' 번역후 : ',d['message']['result']['translatedText'])\n",
        "    else:\n",
        "          print(\"Error Code:\", rescode)\n"
      ],
      "metadata": {
        "id": "4BdcsU9b4o1e"
      },
      "execution_count": null,
      "outputs": []
    },
    {
      "cell_type": "code",
      "source": [
        "# TOEN 사용해야해\n",
        "\n",
        "demo = gr.Interface(\n",
        "    \n",
        "    fn=ToEn,\n",
        "    inputs=[\n",
        "        gr.Textbox(label=\"Text\"),\n",
        "        \n",
        "        # gr.components.Dropdown(label=\"Source Language\"),\n",
        "        # gr.components.Dropdown(label=\"Target Language\"),\n",
        "    ],\n",
        "    outputs=[\"text\"],\n",
        "    # examples=[[\"조현욱은 천재인가?\", \"eng_Latn\", \"spa_Latn\"]],    \n",
        "    cache_examples=False,\n",
        "    title=\"캡스톤디자인 한영번역기\",  # 제목\n",
        "    description=\"Text칸에 한국어를 넣어보고 제출하기를 눌러주세요!!\" #설명\n",
        ")\n",
        "\n",
        "demo.launch(share=True)"
      ],
      "metadata": {
        "id": "sHkEzREBjb22"
      },
      "execution_count": null,
      "outputs": []
    },
    {
      "cell_type": "code",
      "source": [],
      "metadata": {
        "id": "H-dgBcqxuyZe"
      },
      "execution_count": null,
      "outputs": []
    }
  ]
}